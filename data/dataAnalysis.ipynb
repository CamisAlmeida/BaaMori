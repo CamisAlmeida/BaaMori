{
 "cells": [
  {
   "cell_type": "markdown",
   "id": "fb9fcc88",
   "metadata": {},
   "source": [
    "#Filter Data\n",
    "\n",
    "Add the \"Fall\" column and set it to True if there was a fall and False if there wasn't."
   ]
  },
  {
   "cell_type": "code",
   "execution_count": 1,
   "id": "20d7ae52",
   "metadata": {},
   "outputs": [],
   "source": [
    "import pandas as pd\n",
    "\n",
    "nameDfFall = \"dataFall.csv\"\n",
    "nameDfNoFall = \"dataNoFall.csv\"\n",
    "\n",
    "dfFall = pd.read_csv(nameDfFall)\n",
    "dfNoFall = pd.read_csv(nameDfNoFall)\n",
    "\n",
    "dfFall['Fall'] = True\n",
    "dfNoFall['Fall'] = False\n",
    "\n",
    "#Save file data with information on whether or not it is a crash\n",
    "dfFall.to_csv('NewDataFall.csv', index=False)\n",
    "dfNoFall.to_csv('NewDataNoFall.csv', index=False)\n"
   ]
  }
 ],
 "metadata": {
  "kernelspec": {
   "display_name": "Python 3",
   "language": "python",
   "name": "python3"
  },
  "language_info": {
   "codemirror_mode": {
    "name": "ipython",
    "version": 3
   },
   "file_extension": ".py",
   "mimetype": "text/x-python",
   "name": "python",
   "nbconvert_exporter": "python",
   "pygments_lexer": "ipython3",
   "version": "3.13.3"
  }
 },
 "nbformat": 4,
 "nbformat_minor": 5
}
